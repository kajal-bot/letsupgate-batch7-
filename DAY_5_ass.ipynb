{
  "nbformat": 4,
  "nbformat_minor": 0,
  "metadata": {
    "colab": {
      "name": "DAY 5 ass",
      "provenance": [],
      "authorship_tag": "ABX9TyMt/a1yRlO9XcX0SfGio4wx",
      "include_colab_link": true
    },
    "kernelspec": {
      "name": "python3",
      "display_name": "Python 3"
    }
  },
  "cells": [
    {
      "cell_type": "markdown",
      "metadata": {
        "id": "view-in-github",
        "colab_type": "text"
      },
      "source": [
        "<a href=\"https://colab.research.google.com/github/kajal-bot/letsupgate-batch7-/blob/master/DAY_5_ass.ipynb\" target=\"_parent\"><img src=\"https://colab.research.google.com/assets/colab-badge.svg\" alt=\"Open In Colab\"/></a>"
      ]
    },
    {
      "cell_type": "code",
      "metadata": {
        "id": "nEyFkAFR7gQe",
        "colab_type": "code",
        "colab": {}
      },
      "source": [
        ""
      ],
      "execution_count": null,
      "outputs": []
    },
    {
      "cell_type": "code",
      "metadata": {
        "id": "tNf7ZPfP7hNa",
        "colab_type": "code",
        "colab": {}
      },
      "source": [
        "def isprime (x):\n",
        "  for n in range(2,x):\n",
        "    if (x%n == 0):\n",
        "\n",
        "      return false\n",
        "    else:\n",
        "      return true\n",
        "      fltrobj= filter( isprime,range(2500))\n",
        "      print ('prime no between 1-2500',list(fltrobj))   \n"
      ],
      "execution_count": null,
      "outputs": []
    }
  ]
}