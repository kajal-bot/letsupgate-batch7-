{
  "nbformat": 4,
  "nbformat_minor": 0,
  "metadata": {
    "colab": {
      "name": "primes.py",
      "provenance": [],
      "authorship_tag": "ABX9TyNhgo2Hizkm9jaZRqhMo/OJ",
      "include_colab_link": true
    },
    "kernelspec": {
      "name": "python3",
      "display_name": "Python 3"
    }
  },
  "cells": [
    {
      "cell_type": "markdown",
      "metadata": {
        "id": "view-in-github",
        "colab_type": "text"
      },
      "source": [
        "<a href=\"https://colab.research.google.com/github/kajal-bot/letsupgate-batch7-/blob/master/primes_py.ipynb\" target=\"_parent\"><img src=\"https://colab.research.google.com/assets/colab-badge.svg\" alt=\"Open In Colab\"/></a>"
      ]
    },
    {
      "cell_type": "code",
      "metadata": {
        "id": "NU5Y-R0VUPBx",
        "colab_type": "code",
        "colab": {}
      },
      "source": [
        "def is_prime(num):\n",
        "  print(\"true if num is prime\") \n",
        "  for element in range (num):\n",
        "    if num%element == 0:\n",
        "      return false\n",
        "\n",
        "      return true\n",
        "import unittest\n",
        "\n",
        "from primes import is_prime\n",
        "class primetestcase(unittest.testcase):\n",
        "   \"test for 'primes.py'\" \n",
        "   def test_is_five_prime(self) :\n",
        "     \"is five sucessufully determined to be prime?\" \n",
        "     self.asserttrue(is_prime(5)) \n",
        "     if _name_ == _main_:\n",
        "       unittest.main()"
      ],
      "execution_count": null,
      "outputs": []
    },
    {
      "cell_type": "code",
      "metadata": {
        "id": "dLZyj7cra-9N",
        "colab_type": "code",
        "colab": {}
      },
      "source": [
        "def ams(limit):\n",
        "\n",
        "  for num in range (1,1000):\n",
        "\n",
        "    temp=num\n",
        "  sum=0\n",
        "\n",
        "  while temp> 0 :\n",
        "\n",
        "    digit = temp%10\n",
        "  sum=sum+digit**3\n",
        "  temp=temp//10\n",
        "  if sum == num:\n",
        "    x=ams(3)\n",
        "    print(x.next())\n",
        "    print(x.next())\n",
        "    print(x.next())"
      ],
      "execution_count": 31,
      "outputs": []
    }
  ]
}