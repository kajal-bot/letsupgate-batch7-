{
  "nbformat": 4,
  "nbformat_minor": 0,
  "metadata": {
    "colab": {
      "name": "int.txt",
      "provenance": []
    },
    "kernelspec": {
      "name": "python3",
      "display_name": "Python 3"
    }
  },
  "cells": [
    {
      "cell_type": "code",
      "metadata": {
        "id": "oxBSg9Vji3kY",
        "colab_type": "code",
        "colab": {}
      },
      "source": [
        "def memoize(f):\n",
        "\n",
        "  cache ={}\n",
        "def decorated_function(*args):\n",
        "  if args in cache :\n",
        "    return cache [args]\n",
        "  else :\n",
        "        cache[args]=f(*args)\n",
        "        return cache[args]\n",
        "        return decorated_function\n",
        "\n",
        "        def fib(n):\n",
        "\n",
        "          if n==0:\n",
        "\n",
        "           return 0\n",
        "          if n<=2 :\n",
        "\n",
        "           return 1\n",
        "          return fib(n-1)+fib(n-2)"
      ],
      "execution_count": null,
      "outputs": []
    },
    {
      "cell_type": "markdown",
      "metadata": {
        "id": "-39L9KuvlTb5",
        "colab_type": "text"
      },
      "source": [
        "thoes by using it it takes accurate values"
      ]
    },
    {
      "cell_type": "code",
      "metadata": {
        "id": "ILbgL1jJld6C",
        "colab_type": "code",
        "colab": {}
      },
      "source": [
        "ass2"
      ],
      "execution_count": null,
      "outputs": []
    },
    {
      "cell_type": "markdown",
      "metadata": {
        "id": "F7fpm2pancfc",
        "colab_type": "text"
      },
      "source": [
        "# New Section"
      ]
    },
    {
      "cell_type": "code",
      "metadata": {
        "id": "fV29ruG6nd7a",
        "colab_type": "code",
        "colab": {
          "base_uri": "https://localhost:8080/",
          "height": 34
        },
        "outputId": "c08ceda1-0870-42b1-8181-49e0d4c7176c"
      },
      "source": [
        "try:\n",
        "  f=open('int.txt')\n",
        "  s=f.readline()\n",
        "  i=int(s.strip())\n",
        "except (IOError) :\n",
        "    print(\"an I/O error or value error occured\")\n",
        "except:\n",
        "    print (\"an unexcepted error occured\")\n",
        "    \n"
      ],
      "execution_count": 4,
      "outputs": [
        {
          "output_type": "stream",
          "text": [
            "an I/O error or value error occured\n"
          ],
          "name": "stdout"
        }
      ]
    }
  ]
}