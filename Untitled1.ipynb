{
  "nbformat": 4,
  "nbformat_minor": 0,
  "metadata": {
    "colab": {
      "name": "Untitled1.ipynb",
      "provenance": []
    },
    "kernelspec": {
      "name": "python3",
      "display_name": "Python 3"
    }
  },
  "cells": [
    {
      "cell_type": "code",
      "metadata": {
        "id": "f_LUlKclKdcp",
        "colab_type": "code",
        "colab": {}
      },
      "source": [
        ""
      ],
      "execution_count": null,
      "outputs": []
    },
    {
      "cell_type": "markdown",
      "metadata": {
        "id": "jUX8_LwSKf3A",
        "colab_type": "text"
      },
      "source": [
        "# Assignment 1 Day4"
      ]
    },
    {
      "cell_type": "code",
      "metadata": {
        "id": "8zGcK8e7KlUD",
        "colab_type": "code",
        "colab": {}
      },
      "source": [
        "#print the armstrong number in the range of 1042000 to 702648265 and exit the loop as soon as you get first no use while loop\n"
      ],
      "execution_count": null,
      "outputs": []
    },
    {
      "cell_type": "code",
      "metadata": {
        "id": "8z4EcQ94K9GA",
        "colab_type": "code",
        "colab": {}
      },
      "source": [
        "for num in range (1042000,702648265):\n",
        "  temp=num\n",
        "  sum=0\n",
        "while temp>0:\n",
        "   digit =temp%10\n",
        "   sum=sum+digit**3\n",
        "   temp=temp//10\n",
        "   if sum==num:\n",
        "     print(num) "
      ],
      "execution_count": null,
      "outputs": []
    }
  ]
}