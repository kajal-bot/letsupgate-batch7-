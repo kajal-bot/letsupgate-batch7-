{
  "nbformat": 4,
  "nbformat_minor": 0,
  "metadata": {
    "colab": {
      "name": "python day 3 ass",
      "provenance": [],
      "collapsed_sections": [],
      "toc_visible": true
    },
    "kernelspec": {
      "name": "python3",
      "display_name": "Python 3"
    }
  },
  "cells": [
    {
      "cell_type": "code",
      "metadata": {
        "id": "K6tqEdKfrR1c",
        "colab_type": "code",
        "colab": {}
      },
      "source": [
        ""
      ],
      "execution_count": null,
      "outputs": []
    },
    {
      "cell_type": "markdown",
      "metadata": {
        "id": "PpjfhKajraX6",
        "colab_type": "text"
      },
      "source": [
        "# DAY 3 assignment 1\n"
      ]
    },
    {
      "cell_type": "code",
      "metadata": {
        "id": "2wVk4cKRrfjA",
        "colab_type": "code",
        "colab": {
          "base_uri": "https://localhost:8080/",
          "height": 51
        },
        "outputId": "eeea43c9-f6aa-46f3-f915-03359b9effbc"
      },
      "source": [
        "#1.you all are pilots ,you have to land a plane ,the altitude required for landing a plane is 1000ft,\n",
        "#if it is less than that tell pilot to land the plane or it is more \n",
        "#than that but less than 5000ft ask the pilot to come down to 1000ft\n",
        "#,else if it is more than 5000ft ask the pilot to go around and try later\n",
        "altitude=input(\"enter any no\")\n",
        "altitude= int(altitude)\n",
        "if altitude < 1000 :\n",
        "    print(\"safe to land plane\")\n",
        "elif altitude > 1000 and altitude < 50000:\n",
        "    print(\"bring plane down to 1000\")    \n",
        "else:\n",
        "      print(\"turn around\")\n",
        "  \n"
      ],
      "execution_count": null,
      "outputs": [
        {
          "output_type": "stream",
          "text": [
            "enter any no2000\n",
            "bring plane down to 1000\n"
          ],
          "name": "stdout"
        }
      ]
    },
    {
      "cell_type": "code",
      "metadata": {
        "id": "8KWfIIBLwu0C",
        "colab_type": "code",
        "colab": {}
      },
      "source": [
        ""
      ],
      "execution_count": null,
      "outputs": []
    },
    {
      "cell_type": "markdown",
      "metadata": {
        "id": "BfksLwI9wwDX",
        "colab_type": "text"
      },
      "source": [
        "# ASS2 DAY3\n"
      ]
    },
    {
      "cell_type": "code",
      "metadata": {
        "id": "WHTbUloOw1iv",
        "colab_type": "code",
        "colab": {
          "base_uri": "https://localhost:8080/",
          "height": 816
        },
        "outputId": "39fe07d2-867c-4d83-9c6a-e48014356b1c"
      },
      "source": [
        "#using for loop please print all prime no between 1-200 using for loop and range fun\n",
        "for number in range(1,201):\n",
        "  count =0\n",
        "  for i in range(2,(number//2+1)):\n",
        "    if(number%i==0):\n",
        "      count=count+1\n",
        "      break\n",
        "  if(count==0 and number!=1):\n",
        "    print(\"\\n%d\" % number,end='')\n",
        "        \n",
        "  "
      ],
      "execution_count": null,
      "outputs": [
        {
          "output_type": "stream",
          "text": [
            "\n",
            "2\n",
            "3\n",
            "5\n",
            "7\n",
            "11\n",
            "13\n",
            "17\n",
            "19\n",
            "23\n",
            "29\n",
            "31\n",
            "37\n",
            "41\n",
            "43\n",
            "47\n",
            "53\n",
            "59\n",
            "61\n",
            "67\n",
            "71\n",
            "73\n",
            "79\n",
            "83\n",
            "89\n",
            "97\n",
            "101\n",
            "103\n",
            "107\n",
            "109\n",
            "113\n",
            "127\n",
            "131\n",
            "137\n",
            "139\n",
            "149\n",
            "151\n",
            "157\n",
            "163\n",
            "167\n",
            "173\n",
            "179\n",
            "181\n",
            "191\n",
            "193\n",
            "197\n",
            "199"
          ],
          "name": "stdout"
        }
      ]
    },
    {
      "cell_type": "markdown",
      "metadata": {
        "id": "gENdh0Howl6-",
        "colab_type": "text"
      },
      "source": [
        ""
      ]
    }
  ]
}